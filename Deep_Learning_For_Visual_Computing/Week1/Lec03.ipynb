{
  "nbformat": 4,
  "nbformat_minor": 0,
  "metadata": {
    "colab": {
      "provenance": []
    },
    "kernelspec": {
      "name": "python3",
      "display_name": "Python 3"
    },
    "language_info": {
      "name": "python"
    },
    "widgets": {
      "application/vnd.jupyter.widget-state+json": {
        "1dc651236ea649868f555bf743838c3f": {
          "model_module": "@jupyter-widgets/controls",
          "model_name": "HBoxModel",
          "model_module_version": "1.5.0",
          "state": {
            "_dom_classes": [],
            "_model_module": "@jupyter-widgets/controls",
            "_model_module_version": "1.5.0",
            "_model_name": "HBoxModel",
            "_view_count": null,
            "_view_module": "@jupyter-widgets/controls",
            "_view_module_version": "1.5.0",
            "_view_name": "HBoxView",
            "box_style": "",
            "children": [
              "IPY_MODEL_71e95a850dae4eb7b0b3cdeed8709c76",
              "IPY_MODEL_e0e3d59fe54746c9a04a10c5e4657932",
              "IPY_MODEL_583334f2f7ca4ad794252bbc6c0917cc"
            ],
            "layout": "IPY_MODEL_b29da7d64f5b471c9ffcab35a6aa11cf"
          }
        },
        "71e95a850dae4eb7b0b3cdeed8709c76": {
          "model_module": "@jupyter-widgets/controls",
          "model_name": "HTMLModel",
          "model_module_version": "1.5.0",
          "state": {
            "_dom_classes": [],
            "_model_module": "@jupyter-widgets/controls",
            "_model_module_version": "1.5.0",
            "_model_name": "HTMLModel",
            "_view_count": null,
            "_view_module": "@jupyter-widgets/controls",
            "_view_module_version": "1.5.0",
            "_view_name": "HTMLView",
            "description": "",
            "description_tooltip": null,
            "layout": "IPY_MODEL_d455b6a12a6740f5bb8f53c011f9ae75",
            "placeholder": "​",
            "style": "IPY_MODEL_69092e4d3ec840b7a093fd54986ceb32",
            "value": "100%"
          }
        },
        "e0e3d59fe54746c9a04a10c5e4657932": {
          "model_module": "@jupyter-widgets/controls",
          "model_name": "FloatProgressModel",
          "model_module_version": "1.5.0",
          "state": {
            "_dom_classes": [],
            "_model_module": "@jupyter-widgets/controls",
            "_model_module_version": "1.5.0",
            "_model_name": "FloatProgressModel",
            "_view_count": null,
            "_view_module": "@jupyter-widgets/controls",
            "_view_module_version": "1.5.0",
            "_view_name": "ProgressView",
            "bar_style": "success",
            "description": "",
            "description_tooltip": null,
            "layout": "IPY_MODEL_a995cfe42dae4e9abbb9127e7c553815",
            "max": 170498071,
            "min": 0,
            "orientation": "horizontal",
            "style": "IPY_MODEL_5187ddc74f234e3eb2e47f22f36c64e4",
            "value": 170498071
          }
        },
        "583334f2f7ca4ad794252bbc6c0917cc": {
          "model_module": "@jupyter-widgets/controls",
          "model_name": "HTMLModel",
          "model_module_version": "1.5.0",
          "state": {
            "_dom_classes": [],
            "_model_module": "@jupyter-widgets/controls",
            "_model_module_version": "1.5.0",
            "_model_name": "HTMLModel",
            "_view_count": null,
            "_view_module": "@jupyter-widgets/controls",
            "_view_module_version": "1.5.0",
            "_view_name": "HTMLView",
            "description": "",
            "description_tooltip": null,
            "layout": "IPY_MODEL_d0aa793336184e57ae9869cba0a0808f",
            "placeholder": "​",
            "style": "IPY_MODEL_88fb7b94c8d0490f9be748073052802f",
            "value": " 170498071/170498071 [00:02&lt;00:00, 71780712.96it/s]"
          }
        },
        "b29da7d64f5b471c9ffcab35a6aa11cf": {
          "model_module": "@jupyter-widgets/base",
          "model_name": "LayoutModel",
          "model_module_version": "1.2.0",
          "state": {
            "_model_module": "@jupyter-widgets/base",
            "_model_module_version": "1.2.0",
            "_model_name": "LayoutModel",
            "_view_count": null,
            "_view_module": "@jupyter-widgets/base",
            "_view_module_version": "1.2.0",
            "_view_name": "LayoutView",
            "align_content": null,
            "align_items": null,
            "align_self": null,
            "border": null,
            "bottom": null,
            "display": null,
            "flex": null,
            "flex_flow": null,
            "grid_area": null,
            "grid_auto_columns": null,
            "grid_auto_flow": null,
            "grid_auto_rows": null,
            "grid_column": null,
            "grid_gap": null,
            "grid_row": null,
            "grid_template_areas": null,
            "grid_template_columns": null,
            "grid_template_rows": null,
            "height": null,
            "justify_content": null,
            "justify_items": null,
            "left": null,
            "margin": null,
            "max_height": null,
            "max_width": null,
            "min_height": null,
            "min_width": null,
            "object_fit": null,
            "object_position": null,
            "order": null,
            "overflow": null,
            "overflow_x": null,
            "overflow_y": null,
            "padding": null,
            "right": null,
            "top": null,
            "visibility": null,
            "width": null
          }
        },
        "d455b6a12a6740f5bb8f53c011f9ae75": {
          "model_module": "@jupyter-widgets/base",
          "model_name": "LayoutModel",
          "model_module_version": "1.2.0",
          "state": {
            "_model_module": "@jupyter-widgets/base",
            "_model_module_version": "1.2.0",
            "_model_name": "LayoutModel",
            "_view_count": null,
            "_view_module": "@jupyter-widgets/base",
            "_view_module_version": "1.2.0",
            "_view_name": "LayoutView",
            "align_content": null,
            "align_items": null,
            "align_self": null,
            "border": null,
            "bottom": null,
            "display": null,
            "flex": null,
            "flex_flow": null,
            "grid_area": null,
            "grid_auto_columns": null,
            "grid_auto_flow": null,
            "grid_auto_rows": null,
            "grid_column": null,
            "grid_gap": null,
            "grid_row": null,
            "grid_template_areas": null,
            "grid_template_columns": null,
            "grid_template_rows": null,
            "height": null,
            "justify_content": null,
            "justify_items": null,
            "left": null,
            "margin": null,
            "max_height": null,
            "max_width": null,
            "min_height": null,
            "min_width": null,
            "object_fit": null,
            "object_position": null,
            "order": null,
            "overflow": null,
            "overflow_x": null,
            "overflow_y": null,
            "padding": null,
            "right": null,
            "top": null,
            "visibility": null,
            "width": null
          }
        },
        "69092e4d3ec840b7a093fd54986ceb32": {
          "model_module": "@jupyter-widgets/controls",
          "model_name": "DescriptionStyleModel",
          "model_module_version": "1.5.0",
          "state": {
            "_model_module": "@jupyter-widgets/controls",
            "_model_module_version": "1.5.0",
            "_model_name": "DescriptionStyleModel",
            "_view_count": null,
            "_view_module": "@jupyter-widgets/base",
            "_view_module_version": "1.2.0",
            "_view_name": "StyleView",
            "description_width": ""
          }
        },
        "a995cfe42dae4e9abbb9127e7c553815": {
          "model_module": "@jupyter-widgets/base",
          "model_name": "LayoutModel",
          "model_module_version": "1.2.0",
          "state": {
            "_model_module": "@jupyter-widgets/base",
            "_model_module_version": "1.2.0",
            "_model_name": "LayoutModel",
            "_view_count": null,
            "_view_module": "@jupyter-widgets/base",
            "_view_module_version": "1.2.0",
            "_view_name": "LayoutView",
            "align_content": null,
            "align_items": null,
            "align_self": null,
            "border": null,
            "bottom": null,
            "display": null,
            "flex": null,
            "flex_flow": null,
            "grid_area": null,
            "grid_auto_columns": null,
            "grid_auto_flow": null,
            "grid_auto_rows": null,
            "grid_column": null,
            "grid_gap": null,
            "grid_row": null,
            "grid_template_areas": null,
            "grid_template_columns": null,
            "grid_template_rows": null,
            "height": null,
            "justify_content": null,
            "justify_items": null,
            "left": null,
            "margin": null,
            "max_height": null,
            "max_width": null,
            "min_height": null,
            "min_width": null,
            "object_fit": null,
            "object_position": null,
            "order": null,
            "overflow": null,
            "overflow_x": null,
            "overflow_y": null,
            "padding": null,
            "right": null,
            "top": null,
            "visibility": null,
            "width": null
          }
        },
        "5187ddc74f234e3eb2e47f22f36c64e4": {
          "model_module": "@jupyter-widgets/controls",
          "model_name": "ProgressStyleModel",
          "model_module_version": "1.5.0",
          "state": {
            "_model_module": "@jupyter-widgets/controls",
            "_model_module_version": "1.5.0",
            "_model_name": "ProgressStyleModel",
            "_view_count": null,
            "_view_module": "@jupyter-widgets/base",
            "_view_module_version": "1.2.0",
            "_view_name": "StyleView",
            "bar_color": null,
            "description_width": ""
          }
        },
        "d0aa793336184e57ae9869cba0a0808f": {
          "model_module": "@jupyter-widgets/base",
          "model_name": "LayoutModel",
          "model_module_version": "1.2.0",
          "state": {
            "_model_module": "@jupyter-widgets/base",
            "_model_module_version": "1.2.0",
            "_model_name": "LayoutModel",
            "_view_count": null,
            "_view_module": "@jupyter-widgets/base",
            "_view_module_version": "1.2.0",
            "_view_name": "LayoutView",
            "align_content": null,
            "align_items": null,
            "align_self": null,
            "border": null,
            "bottom": null,
            "display": null,
            "flex": null,
            "flex_flow": null,
            "grid_area": null,
            "grid_auto_columns": null,
            "grid_auto_flow": null,
            "grid_auto_rows": null,
            "grid_column": null,
            "grid_gap": null,
            "grid_row": null,
            "grid_template_areas": null,
            "grid_template_columns": null,
            "grid_template_rows": null,
            "height": null,
            "justify_content": null,
            "justify_items": null,
            "left": null,
            "margin": null,
            "max_height": null,
            "max_width": null,
            "min_height": null,
            "min_width": null,
            "object_fit": null,
            "object_position": null,
            "order": null,
            "overflow": null,
            "overflow_x": null,
            "overflow_y": null,
            "padding": null,
            "right": null,
            "top": null,
            "visibility": null,
            "width": null
          }
        },
        "88fb7b94c8d0490f9be748073052802f": {
          "model_module": "@jupyter-widgets/controls",
          "model_name": "DescriptionStyleModel",
          "model_module_version": "1.5.0",
          "state": {
            "_model_module": "@jupyter-widgets/controls",
            "_model_module_version": "1.5.0",
            "_model_name": "DescriptionStyleModel",
            "_view_count": null,
            "_view_module": "@jupyter-widgets/base",
            "_view_module_version": "1.2.0",
            "_view_name": "StyleView",
            "description_width": ""
          }
        },
        "8f93bc23fa9b4b8e92a8c45b93b0b018": {
          "model_module": "@jupyter-widgets/controls",
          "model_name": "HBoxModel",
          "model_module_version": "1.5.0",
          "state": {
            "_dom_classes": [],
            "_model_module": "@jupyter-widgets/controls",
            "_model_module_version": "1.5.0",
            "_model_name": "HBoxModel",
            "_view_count": null,
            "_view_module": "@jupyter-widgets/controls",
            "_view_module_version": "1.5.0",
            "_view_name": "HBoxView",
            "box_style": "",
            "children": [
              "IPY_MODEL_2bb812b4bcd34f6dbd9ce13146579d64",
              "IPY_MODEL_d8dab90a5a8744249185e01ffed8ab22",
              "IPY_MODEL_4245fb5c69024d5d8d4b56c1a5852a69"
            ],
            "layout": "IPY_MODEL_f1e583ecc2914bd1b2b458b740596058"
          }
        },
        "2bb812b4bcd34f6dbd9ce13146579d64": {
          "model_module": "@jupyter-widgets/controls",
          "model_name": "HTMLModel",
          "model_module_version": "1.5.0",
          "state": {
            "_dom_classes": [],
            "_model_module": "@jupyter-widgets/controls",
            "_model_module_version": "1.5.0",
            "_model_name": "HTMLModel",
            "_view_count": null,
            "_view_module": "@jupyter-widgets/controls",
            "_view_module_version": "1.5.0",
            "_view_name": "HTMLView",
            "description": "",
            "description_tooltip": null,
            "layout": "IPY_MODEL_543dc3294f0b46a7889f43745ab24c27",
            "placeholder": "​",
            "style": "IPY_MODEL_e7e1f2f7531642838268aa915bb4b373",
            "value": "100%"
          }
        },
        "d8dab90a5a8744249185e01ffed8ab22": {
          "model_module": "@jupyter-widgets/controls",
          "model_name": "FloatProgressModel",
          "model_module_version": "1.5.0",
          "state": {
            "_dom_classes": [],
            "_model_module": "@jupyter-widgets/controls",
            "_model_module_version": "1.5.0",
            "_model_name": "FloatProgressModel",
            "_view_count": null,
            "_view_module": "@jupyter-widgets/controls",
            "_view_module_version": "1.5.0",
            "_view_name": "ProgressView",
            "bar_style": "success",
            "description": "",
            "description_tooltip": null,
            "layout": "IPY_MODEL_4a6d9441cfd94f91b88d646716211dd4",
            "max": 50000,
            "min": 0,
            "orientation": "horizontal",
            "style": "IPY_MODEL_819bce8d683b443dae6d92b72f3ccc39",
            "value": 50000
          }
        },
        "4245fb5c69024d5d8d4b56c1a5852a69": {
          "model_module": "@jupyter-widgets/controls",
          "model_name": "HTMLModel",
          "model_module_version": "1.5.0",
          "state": {
            "_dom_classes": [],
            "_model_module": "@jupyter-widgets/controls",
            "_model_module_version": "1.5.0",
            "_model_name": "HTMLModel",
            "_view_count": null,
            "_view_module": "@jupyter-widgets/controls",
            "_view_module_version": "1.5.0",
            "_view_name": "HTMLView",
            "description": "",
            "description_tooltip": null,
            "layout": "IPY_MODEL_52ef629e623a45009600cedb4a2cfcee",
            "placeholder": "​",
            "style": "IPY_MODEL_424f0706d6924836bc5ea59171847e6f",
            "value": " 50000/50000 [05:03&lt;00:00, 172.66it/s]"
          }
        },
        "f1e583ecc2914bd1b2b458b740596058": {
          "model_module": "@jupyter-widgets/base",
          "model_name": "LayoutModel",
          "model_module_version": "1.2.0",
          "state": {
            "_model_module": "@jupyter-widgets/base",
            "_model_module_version": "1.2.0",
            "_model_name": "LayoutModel",
            "_view_count": null,
            "_view_module": "@jupyter-widgets/base",
            "_view_module_version": "1.2.0",
            "_view_name": "LayoutView",
            "align_content": null,
            "align_items": null,
            "align_self": null,
            "border": null,
            "bottom": null,
            "display": null,
            "flex": null,
            "flex_flow": null,
            "grid_area": null,
            "grid_auto_columns": null,
            "grid_auto_flow": null,
            "grid_auto_rows": null,
            "grid_column": null,
            "grid_gap": null,
            "grid_row": null,
            "grid_template_areas": null,
            "grid_template_columns": null,
            "grid_template_rows": null,
            "height": null,
            "justify_content": null,
            "justify_items": null,
            "left": null,
            "margin": null,
            "max_height": null,
            "max_width": null,
            "min_height": null,
            "min_width": null,
            "object_fit": null,
            "object_position": null,
            "order": null,
            "overflow": null,
            "overflow_x": null,
            "overflow_y": null,
            "padding": null,
            "right": null,
            "top": null,
            "visibility": null,
            "width": null
          }
        },
        "543dc3294f0b46a7889f43745ab24c27": {
          "model_module": "@jupyter-widgets/base",
          "model_name": "LayoutModel",
          "model_module_version": "1.2.0",
          "state": {
            "_model_module": "@jupyter-widgets/base",
            "_model_module_version": "1.2.0",
            "_model_name": "LayoutModel",
            "_view_count": null,
            "_view_module": "@jupyter-widgets/base",
            "_view_module_version": "1.2.0",
            "_view_name": "LayoutView",
            "align_content": null,
            "align_items": null,
            "align_self": null,
            "border": null,
            "bottom": null,
            "display": null,
            "flex": null,
            "flex_flow": null,
            "grid_area": null,
            "grid_auto_columns": null,
            "grid_auto_flow": null,
            "grid_auto_rows": null,
            "grid_column": null,
            "grid_gap": null,
            "grid_row": null,
            "grid_template_areas": null,
            "grid_template_columns": null,
            "grid_template_rows": null,
            "height": null,
            "justify_content": null,
            "justify_items": null,
            "left": null,
            "margin": null,
            "max_height": null,
            "max_width": null,
            "min_height": null,
            "min_width": null,
            "object_fit": null,
            "object_position": null,
            "order": null,
            "overflow": null,
            "overflow_x": null,
            "overflow_y": null,
            "padding": null,
            "right": null,
            "top": null,
            "visibility": null,
            "width": null
          }
        },
        "e7e1f2f7531642838268aa915bb4b373": {
          "model_module": "@jupyter-widgets/controls",
          "model_name": "DescriptionStyleModel",
          "model_module_version": "1.5.0",
          "state": {
            "_model_module": "@jupyter-widgets/controls",
            "_model_module_version": "1.5.0",
            "_model_name": "DescriptionStyleModel",
            "_view_count": null,
            "_view_module": "@jupyter-widgets/base",
            "_view_module_version": "1.2.0",
            "_view_name": "StyleView",
            "description_width": ""
          }
        },
        "4a6d9441cfd94f91b88d646716211dd4": {
          "model_module": "@jupyter-widgets/base",
          "model_name": "LayoutModel",
          "model_module_version": "1.2.0",
          "state": {
            "_model_module": "@jupyter-widgets/base",
            "_model_module_version": "1.2.0",
            "_model_name": "LayoutModel",
            "_view_count": null,
            "_view_module": "@jupyter-widgets/base",
            "_view_module_version": "1.2.0",
            "_view_name": "LayoutView",
            "align_content": null,
            "align_items": null,
            "align_self": null,
            "border": null,
            "bottom": null,
            "display": null,
            "flex": null,
            "flex_flow": null,
            "grid_area": null,
            "grid_auto_columns": null,
            "grid_auto_flow": null,
            "grid_auto_rows": null,
            "grid_column": null,
            "grid_gap": null,
            "grid_row": null,
            "grid_template_areas": null,
            "grid_template_columns": null,
            "grid_template_rows": null,
            "height": null,
            "justify_content": null,
            "justify_items": null,
            "left": null,
            "margin": null,
            "max_height": null,
            "max_width": null,
            "min_height": null,
            "min_width": null,
            "object_fit": null,
            "object_position": null,
            "order": null,
            "overflow": null,
            "overflow_x": null,
            "overflow_y": null,
            "padding": null,
            "right": null,
            "top": null,
            "visibility": null,
            "width": null
          }
        },
        "819bce8d683b443dae6d92b72f3ccc39": {
          "model_module": "@jupyter-widgets/controls",
          "model_name": "ProgressStyleModel",
          "model_module_version": "1.5.0",
          "state": {
            "_model_module": "@jupyter-widgets/controls",
            "_model_module_version": "1.5.0",
            "_model_name": "ProgressStyleModel",
            "_view_count": null,
            "_view_module": "@jupyter-widgets/base",
            "_view_module_version": "1.2.0",
            "_view_name": "StyleView",
            "bar_color": null,
            "description_width": ""
          }
        },
        "52ef629e623a45009600cedb4a2cfcee": {
          "model_module": "@jupyter-widgets/base",
          "model_name": "LayoutModel",
          "model_module_version": "1.2.0",
          "state": {
            "_model_module": "@jupyter-widgets/base",
            "_model_module_version": "1.2.0",
            "_model_name": "LayoutModel",
            "_view_count": null,
            "_view_module": "@jupyter-widgets/base",
            "_view_module_version": "1.2.0",
            "_view_name": "LayoutView",
            "align_content": null,
            "align_items": null,
            "align_self": null,
            "border": null,
            "bottom": null,
            "display": null,
            "flex": null,
            "flex_flow": null,
            "grid_area": null,
            "grid_auto_columns": null,
            "grid_auto_flow": null,
            "grid_auto_rows": null,
            "grid_column": null,
            "grid_gap": null,
            "grid_row": null,
            "grid_template_areas": null,
            "grid_template_columns": null,
            "grid_template_rows": null,
            "height": null,
            "justify_content": null,
            "justify_items": null,
            "left": null,
            "margin": null,
            "max_height": null,
            "max_width": null,
            "min_height": null,
            "min_width": null,
            "object_fit": null,
            "object_position": null,
            "order": null,
            "overflow": null,
            "overflow_x": null,
            "overflow_y": null,
            "padding": null,
            "right": null,
            "top": null,
            "visibility": null,
            "width": null
          }
        },
        "424f0706d6924836bc5ea59171847e6f": {
          "model_module": "@jupyter-widgets/controls",
          "model_name": "DescriptionStyleModel",
          "model_module_version": "1.5.0",
          "state": {
            "_model_module": "@jupyter-widgets/controls",
            "_model_module_version": "1.5.0",
            "_model_name": "DescriptionStyleModel",
            "_view_count": null,
            "_view_module": "@jupyter-widgets/base",
            "_view_module_version": "1.2.0",
            "_view_name": "StyleView",
            "description_width": ""
          }
        },
        "95c045347fd64e2ebeb0659631b70551": {
          "model_module": "@jupyter-widgets/controls",
          "model_name": "HBoxModel",
          "model_module_version": "1.5.0",
          "state": {
            "_dom_classes": [],
            "_model_module": "@jupyter-widgets/controls",
            "_model_module_version": "1.5.0",
            "_model_name": "HBoxModel",
            "_view_count": null,
            "_view_module": "@jupyter-widgets/controls",
            "_view_module_version": "1.5.0",
            "_view_name": "HBoxView",
            "box_style": "",
            "children": [
              "IPY_MODEL_108bd7d079e14e2582041b0239e299dc",
              "IPY_MODEL_8353a5fbf87e44398c2fa89e95a7e601",
              "IPY_MODEL_bb10c4d2a0ef4e7f8f966e0482dcdca8"
            ],
            "layout": "IPY_MODEL_939dd9e230b142c49c9d252bdd96582a"
          }
        },
        "108bd7d079e14e2582041b0239e299dc": {
          "model_module": "@jupyter-widgets/controls",
          "model_name": "HTMLModel",
          "model_module_version": "1.5.0",
          "state": {
            "_dom_classes": [],
            "_model_module": "@jupyter-widgets/controls",
            "_model_module_version": "1.5.0",
            "_model_name": "HTMLModel",
            "_view_count": null,
            "_view_module": "@jupyter-widgets/controls",
            "_view_module_version": "1.5.0",
            "_view_name": "HTMLView",
            "description": "",
            "description_tooltip": null,
            "layout": "IPY_MODEL_81b05dfba8f544e7a471b22c2c0661c5",
            "placeholder": "​",
            "style": "IPY_MODEL_3d86a33db08b44389c6ca33ff46b99b2",
            "value": "100%"
          }
        },
        "8353a5fbf87e44398c2fa89e95a7e601": {
          "model_module": "@jupyter-widgets/controls",
          "model_name": "FloatProgressModel",
          "model_module_version": "1.5.0",
          "state": {
            "_dom_classes": [],
            "_model_module": "@jupyter-widgets/controls",
            "_model_module_version": "1.5.0",
            "_model_name": "FloatProgressModel",
            "_view_count": null,
            "_view_module": "@jupyter-widgets/controls",
            "_view_module_version": "1.5.0",
            "_view_name": "ProgressView",
            "bar_style": "success",
            "description": "",
            "description_tooltip": null,
            "layout": "IPY_MODEL_3a7015bea8574156a5980b7313e910ad",
            "max": 10000,
            "min": 0,
            "orientation": "horizontal",
            "style": "IPY_MODEL_9ddc2cd2bcb647df816a4de6c85fa049",
            "value": 10000
          }
        },
        "bb10c4d2a0ef4e7f8f966e0482dcdca8": {
          "model_module": "@jupyter-widgets/controls",
          "model_name": "HTMLModel",
          "model_module_version": "1.5.0",
          "state": {
            "_dom_classes": [],
            "_model_module": "@jupyter-widgets/controls",
            "_model_module_version": "1.5.0",
            "_model_name": "HTMLModel",
            "_view_count": null,
            "_view_module": "@jupyter-widgets/controls",
            "_view_module_version": "1.5.0",
            "_view_name": "HTMLView",
            "description": "",
            "description_tooltip": null,
            "layout": "IPY_MODEL_0efe0dce64aa498391c2c7c14a6d3fe7",
            "placeholder": "​",
            "style": "IPY_MODEL_ca886ee46bdc4c0db135c1cae3395715",
            "value": " 10000/10000 [01:02&lt;00:00, 165.50it/s]"
          }
        },
        "939dd9e230b142c49c9d252bdd96582a": {
          "model_module": "@jupyter-widgets/base",
          "model_name": "LayoutModel",
          "model_module_version": "1.2.0",
          "state": {
            "_model_module": "@jupyter-widgets/base",
            "_model_module_version": "1.2.0",
            "_model_name": "LayoutModel",
            "_view_count": null,
            "_view_module": "@jupyter-widgets/base",
            "_view_module_version": "1.2.0",
            "_view_name": "LayoutView",
            "align_content": null,
            "align_items": null,
            "align_self": null,
            "border": null,
            "bottom": null,
            "display": null,
            "flex": null,
            "flex_flow": null,
            "grid_area": null,
            "grid_auto_columns": null,
            "grid_auto_flow": null,
            "grid_auto_rows": null,
            "grid_column": null,
            "grid_gap": null,
            "grid_row": null,
            "grid_template_areas": null,
            "grid_template_columns": null,
            "grid_template_rows": null,
            "height": null,
            "justify_content": null,
            "justify_items": null,
            "left": null,
            "margin": null,
            "max_height": null,
            "max_width": null,
            "min_height": null,
            "min_width": null,
            "object_fit": null,
            "object_position": null,
            "order": null,
            "overflow": null,
            "overflow_x": null,
            "overflow_y": null,
            "padding": null,
            "right": null,
            "top": null,
            "visibility": null,
            "width": null
          }
        },
        "81b05dfba8f544e7a471b22c2c0661c5": {
          "model_module": "@jupyter-widgets/base",
          "model_name": "LayoutModel",
          "model_module_version": "1.2.0",
          "state": {
            "_model_module": "@jupyter-widgets/base",
            "_model_module_version": "1.2.0",
            "_model_name": "LayoutModel",
            "_view_count": null,
            "_view_module": "@jupyter-widgets/base",
            "_view_module_version": "1.2.0",
            "_view_name": "LayoutView",
            "align_content": null,
            "align_items": null,
            "align_self": null,
            "border": null,
            "bottom": null,
            "display": null,
            "flex": null,
            "flex_flow": null,
            "grid_area": null,
            "grid_auto_columns": null,
            "grid_auto_flow": null,
            "grid_auto_rows": null,
            "grid_column": null,
            "grid_gap": null,
            "grid_row": null,
            "grid_template_areas": null,
            "grid_template_columns": null,
            "grid_template_rows": null,
            "height": null,
            "justify_content": null,
            "justify_items": null,
            "left": null,
            "margin": null,
            "max_height": null,
            "max_width": null,
            "min_height": null,
            "min_width": null,
            "object_fit": null,
            "object_position": null,
            "order": null,
            "overflow": null,
            "overflow_x": null,
            "overflow_y": null,
            "padding": null,
            "right": null,
            "top": null,
            "visibility": null,
            "width": null
          }
        },
        "3d86a33db08b44389c6ca33ff46b99b2": {
          "model_module": "@jupyter-widgets/controls",
          "model_name": "DescriptionStyleModel",
          "model_module_version": "1.5.0",
          "state": {
            "_model_module": "@jupyter-widgets/controls",
            "_model_module_version": "1.5.0",
            "_model_name": "DescriptionStyleModel",
            "_view_count": null,
            "_view_module": "@jupyter-widgets/base",
            "_view_module_version": "1.2.0",
            "_view_name": "StyleView",
            "description_width": ""
          }
        },
        "3a7015bea8574156a5980b7313e910ad": {
          "model_module": "@jupyter-widgets/base",
          "model_name": "LayoutModel",
          "model_module_version": "1.2.0",
          "state": {
            "_model_module": "@jupyter-widgets/base",
            "_model_module_version": "1.2.0",
            "_model_name": "LayoutModel",
            "_view_count": null,
            "_view_module": "@jupyter-widgets/base",
            "_view_module_version": "1.2.0",
            "_view_name": "LayoutView",
            "align_content": null,
            "align_items": null,
            "align_self": null,
            "border": null,
            "bottom": null,
            "display": null,
            "flex": null,
            "flex_flow": null,
            "grid_area": null,
            "grid_auto_columns": null,
            "grid_auto_flow": null,
            "grid_auto_rows": null,
            "grid_column": null,
            "grid_gap": null,
            "grid_row": null,
            "grid_template_areas": null,
            "grid_template_columns": null,
            "grid_template_rows": null,
            "height": null,
            "justify_content": null,
            "justify_items": null,
            "left": null,
            "margin": null,
            "max_height": null,
            "max_width": null,
            "min_height": null,
            "min_width": null,
            "object_fit": null,
            "object_position": null,
            "order": null,
            "overflow": null,
            "overflow_x": null,
            "overflow_y": null,
            "padding": null,
            "right": null,
            "top": null,
            "visibility": null,
            "width": null
          }
        },
        "9ddc2cd2bcb647df816a4de6c85fa049": {
          "model_module": "@jupyter-widgets/controls",
          "model_name": "ProgressStyleModel",
          "model_module_version": "1.5.0",
          "state": {
            "_model_module": "@jupyter-widgets/controls",
            "_model_module_version": "1.5.0",
            "_model_name": "ProgressStyleModel",
            "_view_count": null,
            "_view_module": "@jupyter-widgets/base",
            "_view_module_version": "1.2.0",
            "_view_name": "StyleView",
            "bar_color": null,
            "description_width": ""
          }
        },
        "0efe0dce64aa498391c2c7c14a6d3fe7": {
          "model_module": "@jupyter-widgets/base",
          "model_name": "LayoutModel",
          "model_module_version": "1.2.0",
          "state": {
            "_model_module": "@jupyter-widgets/base",
            "_model_module_version": "1.2.0",
            "_model_name": "LayoutModel",
            "_view_count": null,
            "_view_module": "@jupyter-widgets/base",
            "_view_module_version": "1.2.0",
            "_view_name": "LayoutView",
            "align_content": null,
            "align_items": null,
            "align_self": null,
            "border": null,
            "bottom": null,
            "display": null,
            "flex": null,
            "flex_flow": null,
            "grid_area": null,
            "grid_auto_columns": null,
            "grid_auto_flow": null,
            "grid_auto_rows": null,
            "grid_column": null,
            "grid_gap": null,
            "grid_row": null,
            "grid_template_areas": null,
            "grid_template_columns": null,
            "grid_template_rows": null,
            "height": null,
            "justify_content": null,
            "justify_items": null,
            "left": null,
            "margin": null,
            "max_height": null,
            "max_width": null,
            "min_height": null,
            "min_width": null,
            "object_fit": null,
            "object_position": null,
            "order": null,
            "overflow": null,
            "overflow_x": null,
            "overflow_y": null,
            "padding": null,
            "right": null,
            "top": null,
            "visibility": null,
            "width": null
          }
        },
        "ca886ee46bdc4c0db135c1cae3395715": {
          "model_module": "@jupyter-widgets/controls",
          "model_name": "DescriptionStyleModel",
          "model_module_version": "1.5.0",
          "state": {
            "_model_module": "@jupyter-widgets/controls",
            "_model_module_version": "1.5.0",
            "_model_name": "DescriptionStyleModel",
            "_view_count": null,
            "_view_module": "@jupyter-widgets/base",
            "_view_module_version": "1.2.0",
            "_view_name": "StyleView",
            "description_width": ""
          }
        }
      }
    }
  },
  "cells": [
    {
      "cell_type": "code",
      "execution_count": 7,
      "metadata": {
        "id": "TKpxhooMvtF0"
      },
      "outputs": [],
      "source": [
        "%matplotlib inline\n",
        "from torchvision import datasets\n",
        "import PIL\n",
        "from skimage.feature import local_binary_pattern, greycomatrix, greycoprops\n",
        "from skimage.filters import gabor\n",
        "import numpy as np\n",
        "import pickle\n",
        "import matplotlib.pyplot as plt"
      ]
    },
    {
      "cell_type": "code",
      "source": [
        "import skimage\n",
        "print(skimage.__version__)"
      ],
      "metadata": {
        "colab": {
          "base_uri": "https://localhost:8080/"
        },
        "id": "qN7bO2mrxt7P",
        "outputId": "ae45b748-b71c-4660-d408-4f916dbecada"
      },
      "execution_count": 4,
      "outputs": [
        {
          "output_type": "stream",
          "name": "stdout",
          "text": [
            "0.18.3\n"
          ]
        }
      ]
    },
    {
      "cell_type": "code",
      "source": [
        "trainDset = datasets.CIFAR10('./cifar10/', train=True, download=True)\n",
        "testDset = datasets.CIFAR10('./cifar10/', train=False, download=True)"
      ],
      "metadata": {
        "colab": {
          "base_uri": "https://localhost:8080/",
          "height": 101,
          "referenced_widgets": [
            "1dc651236ea649868f555bf743838c3f",
            "71e95a850dae4eb7b0b3cdeed8709c76",
            "e0e3d59fe54746c9a04a10c5e4657932",
            "583334f2f7ca4ad794252bbc6c0917cc",
            "b29da7d64f5b471c9ffcab35a6aa11cf",
            "d455b6a12a6740f5bb8f53c011f9ae75",
            "69092e4d3ec840b7a093fd54986ceb32",
            "a995cfe42dae4e9abbb9127e7c553815",
            "5187ddc74f234e3eb2e47f22f36c64e4",
            "d0aa793336184e57ae9869cba0a0808f",
            "88fb7b94c8d0490f9be748073052802f"
          ]
        },
        "id": "cO_sb0wxw4T2",
        "outputId": "cfa6a2e2-1ac9-4680-de4a-e154cc652cc0"
      },
      "execution_count": 8,
      "outputs": [
        {
          "output_type": "stream",
          "name": "stdout",
          "text": [
            "Downloading https://www.cs.toronto.edu/~kriz/cifar-10-python.tar.gz to ./cifar10/cifar-10-python.tar.gz\n"
          ]
        },
        {
          "output_type": "display_data",
          "data": {
            "text/plain": [
              "  0%|          | 0/170498071 [00:00<?, ?it/s]"
            ],
            "application/vnd.jupyter.widget-view+json": {
              "version_major": 2,
              "version_minor": 0,
              "model_id": "1dc651236ea649868f555bf743838c3f"
            }
          },
          "metadata": {}
        },
        {
          "output_type": "stream",
          "name": "stdout",
          "text": [
            "Extracting ./cifar10/cifar-10-python.tar.gz to ./cifar10/\n",
            "Files already downloaded and verified\n"
          ]
        }
      ]
    },
    {
      "cell_type": "code",
      "source": [
        "print('No. of samples in train test: '+str(len(trainDset)))\n",
        "print('No. of samples in train test: '+str(len(testDset)))"
      ],
      "metadata": {
        "colab": {
          "base_uri": "https://localhost:8080/"
        },
        "id": "AjaFTDHWzfz7",
        "outputId": "17f5a518-4acc-49a9-bb0c-6b86d2b8ff9d"
      },
      "execution_count": 9,
      "outputs": [
        {
          "output_type": "stream",
          "name": "stdout",
          "text": [
            "No. of samples in train test: 50000\n",
            "No. of samples in train test: 10000\n"
          ]
        }
      ]
    },
    {
      "cell_type": "code",
      "source": [
        "img = trainDset[0][0]\n",
        "img_gray = img.convert('L')\n",
        "img_arr = np.array(img_gray)\n",
        "plt.imshow(img)"
      ],
      "metadata": {
        "colab": {
          "base_uri": "https://localhost:8080/",
          "height": 283
        },
        "id": "Ki_jNi9G0E2p",
        "outputId": "6dfc8fd1-8ae0-4044-ea98-7357064acc5c"
      },
      "execution_count": 19,
      "outputs": [
        {
          "output_type": "execute_result",
          "data": {
            "text/plain": [
              "<matplotlib.image.AxesImage at 0x7f25c1fd4e50>"
            ]
          },
          "metadata": {},
          "execution_count": 19
        },
        {
          "output_type": "display_data",
          "data": {
            "text/plain": [
              "<Figure size 432x288 with 1 Axes>"
            ],
            "image/png": "[encoded data removed]"
          },
          "metadata": {
            "needs_background": "light"
          }
        }
      ]
    },
    {
      "cell_type": "markdown",
      "source": [
        "**LOCAL BINARY PATTERNS-(LBP)**"
      ],
      "metadata": {
        "id": "pPijCeSH2avB"
      }
    },
    {
      "cell_type": "code",
      "source": [
        "#Finding the LBP\n",
        "feat_lbp =local_binary_pattern(img_arr,8,1,'uniform')\n",
        "feat_lbp = np.uint8((feat_lbp/feat_lbp.max())*255)\n",
        "lbp_img =PIL.Image.fromarray(feat_lbp)\n",
        "plt.imshow(lbp_img,cmap='gray')"
      ],
      "metadata": {
        "colab": {
          "base_uri": "https://localhost:8080/",
          "height": 283
        },
        "id": "06b_a0-o04Qh",
        "outputId": "e957d025-1142-46de-a8f0-476532d9d7e1"
      },
      "execution_count": 22,
      "outputs": [
        {
          "output_type": "execute_result",
          "data": {
            "text/plain": [
              "<matplotlib.image.AxesImage at 0x7f25c1d77a00>"
            ]
          },
          "metadata": {},
          "execution_count": 22
        },
        {
          "output_type": "display_data",
          "data": {
            "text/plain": [
              "<Figure size 432x288 with 1 Axes>"
            ],
            "image/png": "[encoded data removed]"
          },
          "metadata": {
            "needs_background": "light"
          }
        }
      ]
    },
    {
      "cell_type": "code",
      "source": [
        "# Energy and Entropy of LBP feature\n",
        "lbp_hist,_ = np.histogram(feat_lbp,8)\n",
        "lbp_hist = np.array(lbp_hist,dtype=float)\n",
        "lbp_prob = np.divide(lbp_hist,np.sum(lbp_hist))\n",
        "lbp_energy = np.sum(lbp_prob**2)\n",
        "lbp_entropy = -np.sum(np.multiply(lbp_prob,np.log2(lbp_prob)))\n",
        "print('LBP energy = '+str(lbp_energy))\n",
        "print('LBP entropy = '+str(lbp_entropy))"
      ],
      "metadata": {
        "colab": {
          "base_uri": "https://localhost:8080/"
        },
        "id": "Abar5UG82POU",
        "outputId": "932bcd7b-e026-41d8-c1e2-906ef2f2f895"
      },
      "execution_count": 23,
      "outputs": [
        {
          "output_type": "stream",
          "name": "stdout",
          "text": [
            "LBP energy = 0.14315032958984375\n",
            "LBP entropy = 2.8972505530220363\n"
          ]
        }
      ]
    },
    {
      "cell_type": "markdown",
      "source": [
        "**Co-occurance matrix**"
      ],
      "metadata": {
        "id": "diVADCBH4BAr"
      }
    },
    {
      "cell_type": "code",
      "source": [
        "# Finding GLCM features from co-occurance matrix\n",
        "gCoMat = greycomatrix(img_arr, [2], [0],256,symmetric=True, normed=True) # Co-occurance matrix\n",
        "contrast = greycoprops(gCoMat, prop='contrast')\n",
        "dissimilarity = greycoprops(gCoMat, prop='dissimilarity')\n",
        "homogeneity = greycoprops(gCoMat, prop='homogeneity')\n",
        "energy = greycoprops(gCoMat, prop='energy')\n",
        "correlation = greycoprops(gCoMat, prop='correlation')\n",
        "print('Contrast = '+str(contrast[0][0]))\n",
        "print('Dissimilarity = '+str(dissimilarity[0][0]))\n",
        "print('Homogeneity = '+str(homogeneity[0][0]))\n",
        "print('Energy = '+str(energy[0][0]))\n",
        "print('Correlation = '+str(correlation[0][0]))"
      ],
      "metadata": {
        "colab": {
          "base_uri": "https://localhost:8080/"
        },
        "id": "mlCUMUx-3Uts",
        "outputId": "7547f0ba-c531-45ab-a8b6-e0b1917de32f"
      },
      "execution_count": 24,
      "outputs": [
        {
          "output_type": "stream",
          "name": "stdout",
          "text": [
            "Contrast = 1296.8916666666667\n",
            "Dissimilarity = 24.225\n",
            "Homogeneity = 0.06323755700795276\n",
            "Energy = 0.027282918445226654\n",
            "Correlation = 0.6119618429581918\n"
          ]
        }
      ]
    },
    {
      "cell_type": "markdown",
      "source": [
        "**Gabor filter**"
      ],
      "metadata": {
        "id": "_gpGYosZ4PXr"
      }
    },
    {
      "cell_type": "code",
      "source": [
        "# Gabor filter\n",
        "gaborFilt_real,gaborFilt_imag = gabor(img_arr,frequency=0.6)\n",
        "gaborFilt = (gaborFilt_real**2+gaborFilt_imag**2)//2\n",
        "# Displaying the filter response\n",
        "fig, ax = plt.subplots(1,3)    \n",
        "ax[0].imshow(gaborFilt_real,cmap='gray')\n",
        "ax[1].imshow(gaborFilt_imag,cmap='gray')\n",
        "ax[2].imshow(gaborFilt,cmap='gray')"
      ],
      "metadata": {
        "colab": {
          "base_uri": "https://localhost:8080/",
          "height": 166
        },
        "id": "FOZhnERs3xYS",
        "outputId": "85484c82-a615-4740-ec42-cbf14fa69427"
      },
      "execution_count": 25,
      "outputs": [
        {
          "output_type": "execute_result",
          "data": {
            "text/plain": [
              "<matplotlib.image.AxesImage at 0x7f25c1cbf7f0>"
            ]
          },
          "metadata": {},
          "execution_count": 25
        },
        {
          "output_type": "display_data",
          "data": {
            "text/plain": [
              "<Figure size 432x288 with 3 Axes>"
            ],
            "image/png": "[encoded data removed]"
          },
          "metadata": {
            "needs_background": "light"
          }
        }
      ]
    },
    {
      "cell_type": "code",
      "source": [
        "# Energy and Entropy of Gabor filter response\n",
        "gabor_hist,_ = np.histogram(gaborFilt,8)\n",
        "gabor_hist = np.array(gabor_hist,dtype=float)\n",
        "gabor_prob = np.divide(gabor_hist,np.sum(gabor_hist))\n",
        "gabor_energy = np.sum(gabor_prob**2)\n",
        "gabor_entropy = -np.sum(np.multiply(gabor_prob,np.log2(gabor_prob)))\n",
        "print('Gabor energy = '+str(gabor_energy))\n",
        "print('Gabor entropy = '+str(gabor_entropy))"
      ],
      "metadata": {
        "colab": {
          "base_uri": "https://localhost:8080/"
        },
        "id": "1VuTiCDQ4Ull",
        "outputId": "c62a4ae4-5a49-4566-e0de-821022c63d09"
      },
      "execution_count": 26,
      "outputs": [
        {
          "output_type": "stream",
          "name": "stdout",
          "text": [
            "Gabor energy = 0.24701309204101562\n",
            "Gabor entropy = 2.3533467655293547\n"
          ]
        }
      ]
    },
    {
      "cell_type": "markdown",
      "source": [
        "**Extracting features from all images in the dataset**"
      ],
      "metadata": {
        "id": "hhGrD-tT43b0"
      }
    },
    {
      "cell_type": "code",
      "source": [
        "# Generating training data by extracting features from all images\n",
        "from tqdm import tqdm_notebook\n",
        "label = []\n",
        "featLength = 2+5+2\n",
        "trainFeats = np.zeros((len(trainDset),featLength)) #Feature vector of each image is of size 1x1030\n",
        "for tr in tqdm_notebook(range(len(trainDset))):\n",
        "\n",
        "    img = trainDset[tr][0] #One image at a time\n",
        "    img_gray = img.convert('L') #Converting to grayscale\n",
        "    img_arr = np.array(img_gray.getdata()).reshape(img.size[1],img.size[0]) #Converting to array\n",
        "    # LBP\n",
        "    feat_lbp = local_binary_pattern(img_arr,5,2,'uniform').reshape(img.size[0]*img.size[1])\n",
        "    lbp_hist,_ = np.histogram(feat_lbp,8)\n",
        "    lbp_hist = np.array(lbp_hist,dtype=float)\n",
        "    lbp_prob = np.divide(lbp_hist,np.sum(lbp_hist))\n",
        "    lbp_energy = np.nansum(lbp_prob**2)\n",
        "    lbp_entropy = -np.nansum(np.multiply(lbp_prob,np.log2(lbp_prob)))   \n",
        "    # GLCM\n",
        "    gCoMat = greycomatrix(img_arr, [2], [0],256,symmetric=True, normed=True)\n",
        "    contrast = greycoprops(gCoMat, prop='contrast')\n",
        "    dissimilarity = greycoprops(gCoMat, prop='dissimilarity')\n",
        "    homogeneity = greycoprops(gCoMat, prop='homogeneity')    \n",
        "    energy = greycoprops(gCoMat, prop='energy')\n",
        "    correlation = greycoprops(gCoMat, prop='correlation')    \n",
        "    feat_glcm = np.array([contrast[0][0],dissimilarity[0][0],homogeneity[0][0],energy[0][0],correlation[0][0]])\n",
        "    # Gabor filter\n",
        "    gaborFilt_real,gaborFilt_imag = gabor(img_arr,frequency=0.6)\n",
        "    gaborFilt = (gaborFilt_real**2+gaborFilt_imag**2)//2\n",
        "    gabor_hist,_ = np.histogram(gaborFilt,8)\n",
        "    gabor_hist = np.array(gabor_hist,dtype=float)\n",
        "    gabor_prob = np.divide(gabor_hist,np.sum(gabor_hist))\n",
        "    gabor_energy = np.nansum(gabor_prob**2)\n",
        "    gabor_entropy = -np.nansum(np.multiply(gabor_prob,np.log2(gabor_prob)))\n",
        "    # Concatenating features(2+5+2)    \n",
        "    concat_feat = np.concatenate(([lbp_energy,lbp_entropy],feat_glcm,[gabor_energy,gabor_entropy]),axis=0)\n",
        "    trainFeats[tr,:] = concat_feat #Stacking features vectors for each image\n",
        "    # Class label\n",
        "    label.append(trainDset[tr][1])\n",
        "trainLabel = np.array(label) #Conversion from list to array"
      ],
      "metadata": {
        "colab": {
          "base_uri": "https://localhost:8080/",
          "height": 240,
          "referenced_widgets": [
            "8f93bc23fa9b4b8e92a8c45b93b0b018",
            "2bb812b4bcd34f6dbd9ce13146579d64",
            "d8dab90a5a8744249185e01ffed8ab22",
            "4245fb5c69024d5d8d4b56c1a5852a69",
            "f1e583ecc2914bd1b2b458b740596058",
            "543dc3294f0b46a7889f43745ab24c27",
            "e7e1f2f7531642838268aa915bb4b373",
            "4a6d9441cfd94f91b88d646716211dd4",
            "819bce8d683b443dae6d92b72f3ccc39",
            "52ef629e623a45009600cedb4a2cfcee",
            "424f0706d6924836bc5ea59171847e6f"
          ]
        },
        "id": "9Tzv2pWb4j77",
        "outputId": "05252dbf-914d-4889-998d-a37677701a30"
      },
      "execution_count": 30,
      "outputs": [
        {
          "output_type": "stream",
          "name": "stderr",
          "text": [
            "<ipython-input-30-a87b8031fed7>:6: TqdmDeprecationWarning: This function will be removed in tqdm==5.0.0\n",
            "Please use `tqdm.notebook.tqdm` instead of `tqdm.tqdm_notebook`\n",
            "  for tr in tqdm_notebook(range(len(trainDset))):\n"
          ]
        },
        {
          "output_type": "display_data",
          "data": {
            "text/plain": [
              "  0%|          | 0/50000 [00:00<?, ?it/s]"
            ],
            "application/vnd.jupyter.widget-view+json": {
              "version_major": 2,
              "version_minor": 0,
              "model_id": "8f93bc23fa9b4b8e92a8c45b93b0b018"
            }
          },
          "metadata": {}
        },
        {
          "output_type": "stream",
          "name": "stderr",
          "text": [
            "<ipython-input-30-a87b8031fed7>:17: RuntimeWarning: divide by zero encountered in log2\n",
            "  lbp_entropy = -np.nansum(np.multiply(lbp_prob,np.log2(lbp_prob)))\n",
            "<ipython-input-30-a87b8031fed7>:17: RuntimeWarning: invalid value encountered in multiply\n",
            "  lbp_entropy = -np.nansum(np.multiply(lbp_prob,np.log2(lbp_prob)))\n",
            "<ipython-input-30-a87b8031fed7>:33: RuntimeWarning: divide by zero encountered in log2\n",
            "  gabor_entropy = -np.nansum(np.multiply(gabor_prob,np.log2(gabor_prob)))\n",
            "<ipython-input-30-a87b8031fed7>:33: RuntimeWarning: invalid value encountered in multiply\n",
            "  gabor_entropy = -np.nansum(np.multiply(gabor_prob,np.log2(gabor_prob)))\n"
          ]
        }
      ]
    },
    {
      "cell_type": "code",
      "source": [
        "# Generating testing data by extracting features from all images\n",
        "label = []\n",
        "testFeats = np.zeros((len(testDset),featLength)) #Feature vector of each image is of size 1x1030\n",
        "for ts in tqdm_notebook(range(len(testDset))):\n",
        "    \n",
        "    img = testDset[ts][0] #One image at a time\n",
        "    img_gray = img.convert('L') #Converting to grayscale\n",
        "    img_arr = np.array(img_gray.getdata()).reshape(img.size[1],img.size[0]) #Converting to array\n",
        "    # LBP\n",
        "    feat_lbp = local_binary_pattern(img_arr,5,2,'uniform').reshape(img.size[0]*img.size[1])\n",
        "    lbp_hist,_ = np.histogram(feat_lbp,8)\n",
        "    lbp_hist = np.array(lbp_hist,dtype=float)\n",
        "    lbp_prob = np.divide(lbp_hist,np.sum(lbp_hist))\n",
        "    lbp_energy = np.nansum(lbp_prob**2)\n",
        "    lbp_entropy = -np.nansum(np.multiply(lbp_prob,np.log2(lbp_prob)))\n",
        "    # GLCM\n",
        "    gCoMat = greycomatrix(img_arr, [2], [0],256,symmetric=True, normed=True)\n",
        "    contrast = greycoprops(gCoMat, prop='contrast')\n",
        "    dissimilarity = greycoprops(gCoMat, prop='dissimilarity')\n",
        "    homogeneity = greycoprops(gCoMat, prop='homogeneity')    \n",
        "    energy = greycoprops(gCoMat, prop='energy')\n",
        "    correlation = greycoprops(gCoMat, prop='correlation')    \n",
        "    feat_glcm = np.array([contrast[0][0],dissimilarity[0][0],homogeneity[0][0],energy[0][0],correlation[0][0]])\n",
        "    # Gabor filter\n",
        "    gaborFilt_real,gaborFilt_imag = gabor(img_arr,frequency=0.6)\n",
        "    gaborFilt = (gaborFilt_real**2+gaborFilt_imag**2)//2\n",
        "    gabor_hist,_ = np.histogram(gaborFilt,8)\n",
        "    gabor_hist = np.array(gabor_hist,dtype=float)\n",
        "    gabor_prob = np.divide(gabor_hist,np.sum(gabor_hist))\n",
        "    gabor_energy = np.nansum(gabor_prob**2)\n",
        "    gabor_entropy = -np.nansum(np.multiply(gabor_prob,np.log2(gabor_prob)))\n",
        "    # Concatenating features(2+5+2)    \n",
        "    concat_feat = np.concatenate(([lbp_energy,lbp_entropy],feat_glcm,[gabor_energy,gabor_entropy]),axis=0)    \n",
        "    testFeats[ts,:] = concat_feat  #Stacking features vectors for each image\n",
        "    # Class label\n",
        "    label.append(testDset[ts][1])\n",
        "testLabel = np.array(label)"
      ],
      "metadata": {
        "colab": {
          "base_uri": "https://localhost:8080/",
          "height": 240,
          "referenced_widgets": [
            "95c045347fd64e2ebeb0659631b70551",
            "108bd7d079e14e2582041b0239e299dc",
            "8353a5fbf87e44398c2fa89e95a7e601",
            "bb10c4d2a0ef4e7f8f966e0482dcdca8",
            "939dd9e230b142c49c9d252bdd96582a",
            "81b05dfba8f544e7a471b22c2c0661c5",
            "3d86a33db08b44389c6ca33ff46b99b2",
            "3a7015bea8574156a5980b7313e910ad",
            "9ddc2cd2bcb647df816a4de6c85fa049",
            "0efe0dce64aa498391c2c7c14a6d3fe7",
            "ca886ee46bdc4c0db135c1cae3395715"
          ]
        },
        "id": "_TN4m0Cy7Aa4",
        "outputId": "c508379c-450a-4b2d-a285-0e62ff4cb315"
      },
      "execution_count": 31,
      "outputs": [
        {
          "output_type": "stream",
          "name": "stderr",
          "text": [
            "<ipython-input-31-463b5f19036d>:4: TqdmDeprecationWarning: This function will be removed in tqdm==5.0.0\n",
            "Please use `tqdm.notebook.tqdm` instead of `tqdm.tqdm_notebook`\n",
            "  for ts in tqdm_notebook(range(len(testDset))):\n"
          ]
        },
        {
          "output_type": "display_data",
          "data": {
            "text/plain": [
              "  0%|          | 0/10000 [00:00<?, ?it/s]"
            ],
            "application/vnd.jupyter.widget-view+json": {
              "version_major": 2,
              "version_minor": 0,
              "model_id": "95c045347fd64e2ebeb0659631b70551"
            }
          },
          "metadata": {}
        },
        {
          "output_type": "stream",
          "name": "stderr",
          "text": [
            "<ipython-input-31-463b5f19036d>:15: RuntimeWarning: divide by zero encountered in log2\n",
            "  lbp_entropy = -np.nansum(np.multiply(lbp_prob,np.log2(lbp_prob)))\n",
            "<ipython-input-31-463b5f19036d>:15: RuntimeWarning: invalid value encountered in multiply\n",
            "  lbp_entropy = -np.nansum(np.multiply(lbp_prob,np.log2(lbp_prob)))\n",
            "<ipython-input-31-463b5f19036d>:31: RuntimeWarning: divide by zero encountered in log2\n",
            "  gabor_entropy = -np.nansum(np.multiply(gabor_prob,np.log2(gabor_prob)))\n",
            "<ipython-input-31-463b5f19036d>:31: RuntimeWarning: invalid value encountered in multiply\n",
            "  gabor_entropy = -np.nansum(np.multiply(gabor_prob,np.log2(gabor_prob)))\n"
          ]
        }
      ]
    },
    {
      "cell_type": "markdown",
      "source": [
        "**Feature normalization**"
      ],
      "metadata": {
        "id": "UtwUa1iQ7n0u"
      }
    },
    {
      "cell_type": "code",
      "source": [
        "# Normalizing the train features to the range [0,1]\n",
        "trMaxs = np.amax(trainFeats,axis=0) #Finding maximum along each column\n",
        "trMins = np.amin(trainFeats,axis=0) #Finding maximum along each column\n",
        "trMaxs_rep = np.tile(trMaxs,(50000,1)) #Repeating the maximum value along the rows\n",
        "trMins_rep = np.tile(trMins,(50000,1)) #Repeating the minimum value along the rows\n",
        "trainFeatsNorm = np.divide(trainFeats-trMins_rep,trMaxs_rep) #Element-wise division\n",
        "# Normalizing the test features\n",
        "tsMaxs_rep = np.tile(trMaxs,(10000,1)) #Repeating the maximum value along the rows\n",
        "tsMins_rep = np.tile(trMins,(10000,1)) #Repeating the maximum value along the rows\n",
        "testFeatsNorm = np.divide(testFeats-tsMins_rep,tsMaxs_rep) #Element-wise division"
      ],
      "metadata": {
        "id": "KHlpx3YX7qYX"
      },
      "execution_count": 32,
      "outputs": []
    },
    {
      "cell_type": "code",
      "source": [
        "# Saving normalized training data and labels\n",
        "with open(\"trainFeats.pckl\", \"wb\") as f:\n",
        "    pickle.dump(trainFeatsNorm, f)\n",
        "with open(\"trainLabel.pckl\", \"wb\") as f:\n",
        "    pickle.dump(trainLabel, f)\n",
        "    \n",
        "# Saving normalized testing data and labels\n",
        "with open(\"testFeats.pckl\", \"wb\") as f:\n",
        "    pickle.dump(testFeatsNorm, f)\n",
        "with open(\"testLabel.pckl\", \"wb\") as f:\n",
        "    pickle.dump(testLabel, f)\n",
        "    \n",
        "print('Files saved to disk!')"
      ],
      "metadata": {
        "colab": {
          "base_uri": "https://localhost:8080/"
        },
        "id": "2yQxzr997v1O",
        "outputId": "0530d8c6-ee65-4a02-f553-eab87e465021"
      },
      "execution_count": 33,
      "outputs": [
        {
          "output_type": "stream",
          "name": "stdout",
          "text": [
            "Files saved to disk!\n"
          ]
        }
      ]
    },
    {
      "cell_type": "code",
      "source": [],
      "metadata": {
        "id": "94KaFlpr71Ke"
      },
      "execution_count": null,
      "outputs": []
    }
  ]
}